{
 "cells": [
  {
   "cell_type": "code",
   "execution_count": 1,
   "id": "0d8b7e56",
   "metadata": {
    "execution": {
     "iopub.execute_input": "2024-06-08T20:37:22.343818Z",
     "iopub.status.busy": "2024-06-08T20:37:22.342715Z",
     "iopub.status.idle": "2024-06-08T20:37:23.327486Z",
     "shell.execute_reply": "2024-06-08T20:37:23.326041Z"
    },
    "papermill": {
     "duration": 0.993883,
     "end_time": "2024-06-08T20:37:23.330648",
     "exception": false,
     "start_time": "2024-06-08T20:37:22.336765",
     "status": "completed"
    },
    "tags": []
   },
   "outputs": [
    {
     "name": "stdout",
     "output_type": "stream",
     "text": [
      "/kaggle/input/online-retail-dataset/online_retail.csv\n"
     ]
    }
   ],
   "source": [
    "# This Python 3 environment comes with many helpful analytics libraries installed\n",
    "# It is defined by the kaggle/python Docker image: https://github.com/kaggle/docker-python\n",
    "# For example, here's several helpful packages to load\n",
    "\n",
    "import numpy as np # linear algebra\n",
    "import pandas as pd # data processing, CSV file I/O (e.g. pd.read_csv)\n",
    "\n",
    "# Input data files are available in the read-only \"../input/\" directory\n",
    "# For example, running this (by clicking run or pressing Shift+Enter) will list all files under the input directory\n",
    "\n",
    "import os\n",
    "for dirname, _, filenames in os.walk('/kaggle/input'):\n",
    "    for filename in filenames:\n",
    "        print(os.path.join(dirname, filename))\n",
    "\n",
    "# You can write up to 20GB to the current directory (/kaggle/working/) that gets preserved as output when you create a version using \"Save & Run All\" \n",
    "# You can also write temporary files to /kaggle/temp/, but they won't be saved outside of the current session"
   ]
  },
  {
   "cell_type": "code",
   "execution_count": 2,
   "id": "978caf2f",
   "metadata": {
    "execution": {
     "iopub.execute_input": "2024-06-08T20:37:23.339488Z",
     "iopub.status.busy": "2024-06-08T20:37:23.338874Z",
     "iopub.status.idle": "2024-06-08T20:37:25.486845Z",
     "shell.execute_reply": "2024-06-08T20:37:25.485408Z"
    },
    "papermill": {
     "duration": 2.156193,
     "end_time": "2024-06-08T20:37:25.490614",
     "exception": false,
     "start_time": "2024-06-08T20:37:23.334421",
     "status": "completed"
    },
    "tags": []
   },
   "outputs": [
    {
     "name": "stdout",
     "output_type": "stream",
     "text": [
      "  InvoiceNo StockCode                          Description  Quantity  \\\n",
      "0    536365    85123A   WHITE HANGING HEART T-LIGHT HOLDER         6   \n",
      "1    536365     71053                  WHITE METAL LANTERN         6   \n",
      "2    536365    84406B       CREAM CUPID HEARTS COAT HANGER         8   \n",
      "3    536365    84029G  KNITTED UNION FLAG HOT WATER BOTTLE         6   \n",
      "4    536365    84029E       RED WOOLLY HOTTIE WHITE HEART.         6   \n",
      "\n",
      "           InvoiceDate  UnitPrice  CustomerID         Country  \n",
      "0  2010-12-01 08:26:00       2.55     17850.0  United Kingdom  \n",
      "1  2010-12-01 08:26:00       3.39     17850.0  United Kingdom  \n",
      "2  2010-12-01 08:26:00       2.75     17850.0  United Kingdom  \n",
      "3  2010-12-01 08:26:00       3.39     17850.0  United Kingdom  \n",
      "4  2010-12-01 08:26:00       3.39     17850.0  United Kingdom  \n",
      "InvoiceNo       object\n",
      "StockCode       object\n",
      "Description     object\n",
      "Quantity         int64\n",
      "InvoiceDate     object\n",
      "UnitPrice      float64\n",
      "CustomerID     float64\n",
      "Country         object\n",
      "dtype: object\n"
     ]
    }
   ],
   "source": [
    "import pandas as pd\n",
    "df = pd.read_csv('/kaggle/input/online-retail-dataset/online_retail.csv', encoding='ISO-8859-1')\n",
    "print(df.head())\n",
    "print(df.dtypes)"
   ]
  },
  {
   "cell_type": "code",
   "execution_count": 3,
   "id": "2b3316c3",
   "metadata": {
    "execution": {
     "iopub.execute_input": "2024-06-08T20:37:25.502134Z",
     "iopub.status.busy": "2024-06-08T20:37:25.501347Z",
     "iopub.status.idle": "2024-06-08T20:37:26.319727Z",
     "shell.execute_reply": "2024-06-08T20:37:26.317776Z"
    },
    "papermill": {
     "duration": 0.826868,
     "end_time": "2024-06-08T20:37:26.322305",
     "exception": false,
     "start_time": "2024-06-08T20:37:25.495437",
     "status": "completed"
    },
    "tags": []
   },
   "outputs": [
    {
     "name": "stdout",
     "output_type": "stream",
     "text": [
      "InvoiceNo              object\n",
      "StockCode              object\n",
      "Description            object\n",
      "Quantity                int64\n",
      "InvoiceDate    datetime64[ns]\n",
      "UnitPrice             float64\n",
      "CustomerID            float64\n",
      "Country                object\n",
      "dtype: object\n"
     ]
    }
   ],
   "source": [
    "#DATA CLEANING\n",
    "df.dropna(inplace=True)\n",
    "df.drop_duplicates(inplace=True)\n",
    "df['InvoiceDate'] = pd.to_datetime(df['InvoiceDate'])\n",
    "print(df.dtypes)"
   ]
  },
  {
   "cell_type": "code",
   "execution_count": 4,
   "id": "0f1ff39a",
   "metadata": {
    "execution": {
     "iopub.execute_input": "2024-06-08T20:37:26.331956Z",
     "iopub.status.busy": "2024-06-08T20:37:26.330762Z",
     "iopub.status.idle": "2024-06-08T20:37:26.369564Z",
     "shell.execute_reply": "2024-06-08T20:37:26.368464Z"
    },
    "papermill": {
     "duration": 0.046671,
     "end_time": "2024-06-08T20:37:26.372393",
     "exception": false,
     "start_time": "2024-06-08T20:37:26.325722",
     "status": "completed"
    },
    "tags": []
   },
   "outputs": [],
   "source": [
    "df['TotalAmount'] = df['Quantity'] * df['UnitPrice']\n",
    "reference_date = df['InvoiceDate'].max() + pd.DateOffset(1)\n",
    "df['last_purchase_date'] = (reference_date - df['InvoiceDate']).dt.days\n"
   ]
  },
  {
   "cell_type": "code",
   "execution_count": 5,
   "id": "86fa4e8d",
   "metadata": {
    "execution": {
     "iopub.execute_input": "2024-06-08T20:37:26.384053Z",
     "iopub.status.busy": "2024-06-08T20:37:26.382890Z",
     "iopub.status.idle": "2024-06-08T20:37:30.335395Z",
     "shell.execute_reply": "2024-06-08T20:37:30.334150Z"
    },
    "papermill": {
     "duration": 3.962729,
     "end_time": "2024-06-08T20:37:30.338532",
     "exception": false,
     "start_time": "2024-06-08T20:37:26.375803",
     "status": "completed"
    },
    "tags": []
   },
   "outputs": [
    {
     "name": "stderr",
     "output_type": "stream",
     "text": [
      "/opt/conda/lib/python3.10/site-packages/seaborn/_oldcore.py:1119: FutureWarning: use_inf_as_na option is deprecated and will be removed in a future version. Convert inf values to NaN before operating instead.\n",
      "  with pd.option_context('mode.use_inf_as_na', True):\n"
     ]
    },
    {
     "data": {
      "image/png": "[encoded data removed]",
      "text/plain": [
       "<Figure size 640x480 with 1 Axes>"
      ]
     },
     "metadata": {},
     "output_type": "display_data"
    }
   ],
   "source": [
    "#Data Visualization\n",
    "import matplotlib.pyplot as plt\n",
    "import seaborn as sns\n",
    "\n",
    "sns.histplot(df['last_purchase_date'], kde = True)\n",
    "plt.title('Distribution of last purchase dates')\n",
    "plt.show()"
   ]
  }
 ],
 "metadata": {
  "kaggle": {
   "accelerator": "none",
   "dataSources": [
    {
     "datasetId": 2827948,
     "sourceId": 4877104,
     "sourceType": "datasetVersion"
    }
   ],
   "dockerImageVersionId": 30732,
   "isGpuEnabled": false,
   "isInternetEnabled": false,
   "language": "python",
   "sourceType": "notebook"
  },
  "kernelspec": {
   "display_name": "Python 3",
   "language": "python",
   "name": "python3"
  },
  "language_info": {
   "codemirror_mode": {
    "name": "ipython",
    "version": 3
   },
   "file_extension": ".py",
   "mimetype": "text/x-python",
   "name": "python",
   "nbconvert_exporter": "python",
   "pygments_lexer": "ipython3",
   "version": "3.10.13"
  },
  "papermill": {
   "default_parameters": {},
   "duration": 11.75988,
   "end_time": "2024-06-08T20:37:30.966706",
   "environment_variables": {},
   "exception": null,
   "input_path": "__notebook__.ipynb",
   "output_path": "__notebook__.ipynb",
   "parameters": {},
   "start_time": "2024-06-08T20:37:19.206826",
   "version": "2.5.0"
  }
 },
 "nbformat": 4,
 "nbformat_minor": 5
}
