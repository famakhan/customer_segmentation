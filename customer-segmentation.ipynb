{
 "cells": [
  {
   "cell_type": "code",
   "execution_count": 1,
   "id": "2275a7ab",
   "metadata": {
    "execution": {
     "iopub.execute_input": "2024-06-08T20:29:08.482882Z",
     "iopub.status.busy": "2024-06-08T20:29:08.482457Z",
     "iopub.status.idle": "2024-06-08T20:29:09.591538Z",
     "shell.execute_reply": "2024-06-08T20:29:09.589816Z"
    },
    "papermill": {
     "duration": 1.116861,
     "end_time": "2024-06-08T20:29:09.594634",
     "exception": false,
     "start_time": "2024-06-08T20:29:08.477773",
     "status": "completed"
    },
    "tags": []
   },
   "outputs": [
    {
     "name": "stdout",
     "output_type": "stream",
     "text": [
      "/kaggle/input/online-retail-dataset/online_retail.csv\n"
     ]
    }
   ],
   "source": [
    "# This Python 3 environment comes with many helpful analytics libraries installed\n",
    "# It is defined by the kaggle/python Docker image: https://github.com/kaggle/docker-python\n",
    "# For example, here's several helpful packages to load\n",
    "\n",
    "import numpy as np # linear algebra\n",
    "import pandas as pd # data processing, CSV file I/O (e.g. pd.read_csv)\n",
    "\n",
    "# Input data files are available in the read-only \"../input/\" directory\n",
    "# For example, running this (by clicking run or pressing Shift+Enter) will list all files under the input directory\n",
    "\n",
    "import os\n",
    "for dirname, _, filenames in os.walk('/kaggle/input'):\n",
    "    for filename in filenames:\n",
    "        print(os.path.join(dirname, filename))\n",
    "\n",
    "# You can write up to 20GB to the current directory (/kaggle/working/) that gets preserved as output when you create a version using \"Save & Run All\" \n",
    "# You can also write temporary files to /kaggle/temp/, but they won't be saved outside of the current session"
   ]
  },
  {
   "cell_type": "code",
   "execution_count": 2,
   "id": "1b2b4c9f",
   "metadata": {
    "execution": {
     "iopub.execute_input": "2024-06-08T20:29:09.604134Z",
     "iopub.status.busy": "2024-06-08T20:29:09.602879Z",
     "iopub.status.idle": "2024-06-08T20:29:11.218502Z",
     "shell.execute_reply": "2024-06-08T20:29:11.217276Z"
    },
    "papermill": {
     "duration": 1.623574,
     "end_time": "2024-06-08T20:29:11.221622",
     "exception": false,
     "start_time": "2024-06-08T20:29:09.598048",
     "status": "completed"
    },
    "tags": []
   },
   "outputs": [
    {
     "name": "stdout",
     "output_type": "stream",
     "text": [
      "  InvoiceNo StockCode                          Description  Quantity  \\\n",
      "0    536365    85123A   WHITE HANGING HEART T-LIGHT HOLDER         6   \n",
      "1    536365     71053                  WHITE METAL LANTERN         6   \n",
      "2    536365    84406B       CREAM CUPID HEARTS COAT HANGER         8   \n",
      "3    536365    84029G  KNITTED UNION FLAG HOT WATER BOTTLE         6   \n",
      "4    536365    84029E       RED WOOLLY HOTTIE WHITE HEART.         6   \n",
      "\n",
      "           InvoiceDate  UnitPrice  CustomerID         Country  \n",
      "0  2010-12-01 08:26:00       2.55     17850.0  United Kingdom  \n",
      "1  2010-12-01 08:26:00       3.39     17850.0  United Kingdom  \n",
      "2  2010-12-01 08:26:00       2.75     17850.0  United Kingdom  \n",
      "3  2010-12-01 08:26:00       3.39     17850.0  United Kingdom  \n",
      "4  2010-12-01 08:26:00       3.39     17850.0  United Kingdom  \n",
      "InvoiceNo       object\n",
      "StockCode       object\n",
      "Description     object\n",
      "Quantity         int64\n",
      "InvoiceDate     object\n",
      "UnitPrice      float64\n",
      "CustomerID     float64\n",
      "Country         object\n",
      "dtype: object\n"
     ]
    }
   ],
   "source": [
    "import pandas as pd\n",
    "df = pd.read_csv('/kaggle/input/online-retail-dataset/online_retail.csv', encoding='ISO-8859-1')\n",
    "print(df.head())\n",
    "print(df.dtypes)"
   ]
  },
  {
   "cell_type": "code",
   "execution_count": 3,
   "id": "d2f39760",
   "metadata": {
    "execution": {
     "iopub.execute_input": "2024-06-08T20:29:11.229563Z",
     "iopub.status.busy": "2024-06-08T20:29:11.229118Z",
     "iopub.status.idle": "2024-06-08T20:29:12.043774Z",
     "shell.execute_reply": "2024-06-08T20:29:12.042129Z"
    },
    "papermill": {
     "duration": 0.822015,
     "end_time": "2024-06-08T20:29:12.046688",
     "exception": false,
     "start_time": "2024-06-08T20:29:11.224673",
     "status": "completed"
    },
    "tags": []
   },
   "outputs": [
    {
     "name": "stdout",
     "output_type": "stream",
     "text": [
      "InvoiceNo              object\n",
      "StockCode              object\n",
      "Description            object\n",
      "Quantity                int64\n",
      "InvoiceDate    datetime64[ns]\n",
      "UnitPrice             float64\n",
      "CustomerID            float64\n",
      "Country                object\n",
      "dtype: object\n"
     ]
    }
   ],
   "source": [
    "#DATA CLEANING\n",
    "df.dropna(inplace=True)\n",
    "df.drop_duplicates(inplace=True)\n",
    "df['InvoiceDate'] = pd.to_datetime(df['InvoiceDate'])\n",
    "print(df.dtypes)"
   ]
  },
  {
   "cell_type": "code",
   "execution_count": 4,
   "id": "c400eb3a",
   "metadata": {
    "execution": {
     "iopub.execute_input": "2024-06-08T20:29:12.056036Z",
     "iopub.status.busy": "2024-06-08T20:29:12.055541Z",
     "iopub.status.idle": "2024-06-08T20:29:12.088839Z",
     "shell.execute_reply": "2024-06-08T20:29:12.087213Z"
    },
    "papermill": {
     "duration": 0.042323,
     "end_time": "2024-06-08T20:29:12.092324",
     "exception": false,
     "start_time": "2024-06-08T20:29:12.050001",
     "status": "completed"
    },
    "tags": []
   },
   "outputs": [],
   "source": [
    "df['TotalAmount'] = df['Quantity'] * df['UnitPrice']\n",
    "reference_date = df['InvoiceDate'].max() + pd.DateOffset(1)\n",
    "df['last_purchase_date'] = (reference_date - df['InvoiceDate']).dt.days\n"
   ]
  }
 ],
 "metadata": {
  "kaggle": {
   "accelerator": "none",
   "dataSources": [
    {
     "datasetId": 2827948,
     "sourceId": 4877104,
     "sourceType": "datasetVersion"
    }
   ],
   "dockerImageVersionId": 30732,
   "isGpuEnabled": false,
   "isInternetEnabled": false,
   "language": "python",
   "sourceType": "notebook"
  },
  "kernelspec": {
   "display_name": "Python 3",
   "language": "python",
   "name": "python3"
  },
  "language_info": {
   "codemirror_mode": {
    "name": "ipython",
    "version": 3
   },
   "file_extension": ".py",
   "mimetype": "text/x-python",
   "name": "python",
   "nbconvert_exporter": "python",
   "pygments_lexer": "ipython3",
   "version": "3.10.13"
  },
  "papermill": {
   "default_parameters": {},
   "duration": 7.494277,
   "end_time": "2024-06-08T20:29:12.619194",
   "environment_variables": {},
   "exception": null,
   "input_path": "__notebook__.ipynb",
   "output_path": "__notebook__.ipynb",
   "parameters": {},
   "start_time": "2024-06-08T20:29:05.124917",
   "version": "2.5.0"
  }
 },
 "nbformat": 4,
 "nbformat_minor": 5
}
